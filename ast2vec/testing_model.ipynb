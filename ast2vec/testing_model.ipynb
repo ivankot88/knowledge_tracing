{
 "cells": [
  {
   "cell_type": "code",
   "execution_count": 16,
   "id": "80e26261-99c4-4a3c-a0d6-45448de85318",
   "metadata": {},
   "outputs": [
    {
     "ename": "ImportError",
     "evalue": "cannot import name 'rtgae2' from partially initialized module 'ast2vec' (most likely due to a circular import) (/mnt/c/Users/Mi/Desktop/Work/knowledge_tracing/ast2vec/ast2vec.py)",
     "output_type": "error",
     "traceback": [
      "\u001b[0;31m---------------------------------------------------------------------------\u001b[0m",
      "\u001b[0;31mImportError\u001b[0m                               Traceback (most recent call last)",
      "Input \u001b[0;32mIn [16]\u001b[0m, in \u001b[0;36m<cell line: 1>\u001b[0;34m()\u001b[0m\n\u001b[0;32m----> 1\u001b[0m \u001b[38;5;28;01mfrom\u001b[39;00m \u001b[38;5;21;01mast2vec\u001b[39;00m\u001b[38;5;21;01m.\u001b[39;00m\u001b[38;5;21;01mpython_ast_utils\u001b[39;00m \u001b[38;5;28;01mimport\u001b[39;00m \u001b[38;5;241m*\u001b[39m\n\u001b[1;32m      2\u001b[0m \u001b[38;5;28;01mimport\u001b[39;00m \u001b[38;5;21;01mast\u001b[39;00m\n\u001b[1;32m      3\u001b[0m \u001b[38;5;28;01mfrom\u001b[39;00m \u001b[38;5;21;01mtqdm\u001b[39;00m \u001b[38;5;28;01mimport\u001b[39;00m tqdm\n",
      "File \u001b[0;32m/mnt/c/Users/Mi/Desktop/Work/knowledge_tracing/ast2vec/ast2vec.py:32\u001b[0m, in \u001b[0;36m<module>\u001b[0;34m\u001b[0m\n\u001b[1;32m     29\u001b[0m __email__ \u001b[38;5;241m=\u001b[39m \u001b[38;5;124m'\u001b[39m\u001b[38;5;124mbenjamin.paassen@sydney.edu.au\u001b[39m\u001b[38;5;124m'\u001b[39m\n\u001b[1;32m     31\u001b[0m \u001b[38;5;28;01mimport\u001b[39;00m \u001b[38;5;21;01mtorch\u001b[39;00m\n\u001b[0;32m---> 32\u001b[0m \u001b[38;5;28;01mfrom\u001b[39;00m \u001b[38;5;21;01mast2vec\u001b[39;00m \u001b[38;5;28;01mimport\u001b[39;00m rtgae2\n\u001b[1;32m     33\u001b[0m \u001b[38;5;28;01mfrom\u001b[39;00m \u001b[38;5;21;01mast2vec\u001b[39;00m \u001b[38;5;28;01mimport\u001b[39;00m python_ast_utils\n\u001b[1;32m     34\u001b[0m \u001b[38;5;28;01mimport\u001b[39;00m \u001b[38;5;21;01mastor\u001b[39;00m\n",
      "\u001b[0;31mImportError\u001b[0m: cannot import name 'rtgae2' from partially initialized module 'ast2vec' (most likely due to a circular import) (/mnt/c/Users/Mi/Desktop/Work/knowledge_tracing/ast2vec/ast2vec.py)"
     ]
    }
   ],
   "source": [
    "from ast2vec.python_ast_utils import *\n",
    "import ast\n",
    "from tqdm import tqdm\n",
    "from ast2vec import tree as tree\n",
    "from ast2vec.ast2vec import encode_trees, load_model\n",
    "from ast2vec import tree_grammar as tree_grammar\n",
    "import pandas as pd\n",
    "\n",
    "from tqdm import tqdm\n",
    "tqdm.pandas()\n",
    "from torch.nn.utils.rnn import pad_sequence\n",
    "from pandarallel import pandarallel\n",
    "\n",
    "pandarallel.initialize(progress_bar=True)"
   ]
  },
  {
   "cell_type": "code",
   "execution_count": 11,
   "id": "fa8324f5-140d-4ef2-9d75-bf5b91a89b26",
   "metadata": {},
   "outputs": [],
   "source": [
    "data = pd.read_pickle('../data/python_submits.pkl')"
   ]
  },
  {
   "cell_type": "code",
   "execution_count": 15,
   "id": "d509dc3a-13fd-41a8-ae5d-c4a1cd6849f1",
   "metadata": {},
   "outputs": [],
   "source": [
    "codes = data[data.user_id == 52422].code"
   ]
  },
  {
   "cell_type": "code",
   "execution_count": null,
   "id": "713e16eb-01ad-4f12-bebe-1b453d0b87b9",
   "metadata": {},
   "outputs": [],
   "source": [
    "def convert_to_tree(src):\n",
    "    parser = tree_grammar.TreeParser(grammar)\n",
    "    try:\n",
    "        ast_tree = ast.parse(src, mode='exec')\n",
    "        x = ast_to_tree(ast_tree)\n",
    "        parser.parse_tree(x)\n",
    "        return x\n",
    "    except:\n",
    "        return None\n",
    "    \n",
    "data['tree'] = data['code'].progress_apply(convert_to_tree)"
   ]
  }
 ],
 "metadata": {
  "kernelspec": {
   "display_name": "Python 3 (ipykernel)",
   "language": "python",
   "name": "python3"
  },
  "language_info": {
   "codemirror_mode": {
    "name": "ipython",
    "version": 3
   },
   "file_extension": ".py",
   "mimetype": "text/x-python",
   "name": "python",
   "nbconvert_exporter": "python",
   "pygments_lexer": "ipython3",
   "version": "3.10.6"
  }
 },
 "nbformat": 4,
 "nbformat_minor": 5
}
