{
 "cells": [
  {
   "cell_type": "code",
   "execution_count": 3,
   "metadata": {
    "ExecuteTime": {
     "end_time": "2023-04-25T11:08:06.031373Z",
     "start_time": "2023-04-25T11:08:03.696208Z"
    },
    "collapsed": false,
    "jupyter": {
     "outputs_hidden": false
    }
   },
   "outputs": [
    {
     "name": "stdout",
     "output_type": "stream",
     "text": [
      "INFO: Pandarallel will run on 4 workers.\n",
      "INFO: Pandarallel will use Memory file system to transfer data between the main process and workers.\n"
     ]
    }
   ],
   "source": [
    "import sys\n",
    "sys.path.append('..')\n",
    "\n",
    "from ast2vec.python_ast_utils import *\n",
    "import ast\n",
    "from tqdm import tqdm\n",
    "from ast2vec import tree as tree\n",
    "from ast2vec.ast2vec import encode_trees, load_model\n",
    "from ast2vec import tree_grammar as tree_grammar\n",
    "import pandas as pd\n",
    "\n",
    "from tqdm import tqdm\n",
    "tqdm.pandas()\n",
    "from torch.nn.utils.rnn import pad_sequence\n",
    "from pandarallel import pandarallel\n",
    "\n",
    "pandarallel.initialize(progress_bar=True)"
   ]
  },
  {
   "cell_type": "code",
   "execution_count": null,
   "metadata": {},
   "outputs": [],
   "source": []
  },
  {
   "cell_type": "code",
   "execution_count": 4,
   "metadata": {
    "ExecuteTime": {
     "end_time": "2023-04-25T11:08:06.050710Z",
     "start_time": "2023-04-25T11:08:06.031373Z"
    },
    "collapsed": false,
    "jupyter": {
     "outputs_hidden": false
    }
   },
   "outputs": [],
   "source": [
    "def convert_to_tree(src):\n",
    "    parser = tree_grammar.TreeParser(grammar)\n",
    "    try:\n",
    "        ast_tree = ast.parse(src, mode='exec')\n",
    "        x = ast_to_tree(ast_tree)\n",
    "        parser.parse_tree(x)\n",
    "        return x\n",
    "    except:\n",
    "        return None"
   ]
  },
  {
   "cell_type": "code",
   "execution_count": 6,
   "metadata": {
    "ExecuteTime": {
     "end_time": "2023-04-25T11:08:06.127200Z",
     "start_time": "2023-04-25T11:08:06.045710Z"
    },
    "collapsed": false,
    "jupyter": {
     "outputs_hidden": false
    }
   },
   "outputs": [],
   "source": [
    "# data = pd.read_pickle('data/python_submits_test.pkl')"
   ]
  },
  {
   "cell_type": "code",
   "execution_count": 4,
   "metadata": {
    "ExecuteTime": {
     "end_time": "2023-04-25T11:08:06.308019Z",
     "start_time": "2023-04-25T11:08:06.124199Z"
    },
    "collapsed": false,
    "jupyter": {
     "outputs_hidden": false
    }
   },
   "outputs": [
    {
     "name": "stderr",
     "output_type": "stream",
     "text": [
      "100%|███████████████████████████████████████████████████████████████████████████████| 488/488 [00:00<00:00, 1963.12it/s]\n"
     ]
    }
   ],
   "source": [
    "data['tree'] = data['code'].progress_apply(convert_to_tree)"
   ]
  },
  {
   "cell_type": "code",
   "execution_count": 5,
   "metadata": {
    "ExecuteTime": {
     "end_time": "2023-04-25T11:08:07.419051Z",
     "start_time": "2023-04-25T11:08:07.385975Z"
    },
    "collapsed": false,
    "jupyter": {
     "outputs_hidden": false
    }
   },
   "outputs": [],
   "source": [
    "model = load_model('ast2vec/ast2vec.pt')"
   ]
  },
  {
   "cell_type": "code",
   "execution_count": 7,
   "metadata": {},
   "outputs": [
    {
     "data": {
      "text/plain": [
       "8"
      ]
     },
     "execution_count": 7,
     "metadata": {},
     "output_type": "execute_result"
    }
   ],
   "source": [
    "import multiprocessing\n",
    "import time\n",
    "multiprocessing.cpu_count()"
   ]
  },
  {
   "cell_type": "code",
   "execution_count": 16,
   "metadata": {
    "ExecuteTime": {
     "end_time": "2023-04-25T11:09:24.786904Z",
     "start_time": "2023-04-25T11:09:15.700369Z"
    },
    "collapsed": false,
    "jupyter": {
     "outputs_hidden": false
    }
   },
   "outputs": [
    {
     "name": "stderr",
     "output_type": "stream",
     "text": [
      "Worker: 0: 100%|████████████████████████████████████████████████████████████████████████| 61/61 [00:01<00:00, 35.41it/s]\n",
      "Worker: 1: 61it [00:01, 33.34it/s]                                                                                      \n",
      "Worker: 2: 61it [00:01, 33.17it/s]                                                                                      \n",
      "Worker: 3: 61it [00:01, 31.69it/s]                                                                                      \n",
      "Worker: 6: 61it [00:01, 32.85it/s]                                                                                      \n",
      "Worker: 5: 61it [00:01, 32.10it/s]                                                                                      \n",
      "Worker: 4: 61it [00:01, 31.30it/s]                                                                                      \n",
      "Worker: 7: 61it [00:01, 31.65it/s]                                                                                      \n"
     ]
    }
   ],
   "source": [
    "start_time = time.time()\n",
    "X_multi = encode_trees(model, data['tree'].values, verbose=True, n_jobs=8)\n",
    "finish_time = time.time()"
   ]
  },
  {
   "cell_type": "code",
   "execution_count": 17,
   "metadata": {},
   "outputs": [
    {
     "name": "stdout",
     "output_type": "stream",
     "text": [
      "2.152925968170166\n"
     ]
    }
   ],
   "source": [
    "print(finish_time-start_time)"
   ]
  },
  {
   "cell_type": "code",
   "execution_count": 12,
   "metadata": {},
   "outputs": [
    {
     "name": "stderr",
     "output_type": "stream",
     "text": [
      "100%|████████████████████████████████████████████████████████████████████████████████| 488/488 [00:04<00:00, 121.97it/s]\n"
     ]
    }
   ],
   "source": [
    "X_one = encode_trees(model, data['tree'].values, verbose=True, n_jobs=1)"
   ]
  },
  {
   "cell_type": "code",
   "execution_count": null,
   "metadata": {
    "collapsed": false,
    "jupyter": {
     "outputs_hidden": false
    }
   },
   "outputs": [],
   "source": []
  },
  {
   "cell_type": "code",
   "execution_count": null,
   "metadata": {},
   "outputs": [],
   "source": []
  },
  {
   "attachments": {},
   "cell_type": "markdown",
   "metadata": {},
   "source": [
    "## Sanity check"
   ]
  },
  {
   "cell_type": "code",
   "execution_count": 47,
   "metadata": {},
   "outputs": [],
   "source": [
    "data = pd.read_pickle('data/python_submits.pkl')"
   ]
  },
  {
   "cell_type": "code",
   "execution_count": 48,
   "metadata": {},
   "outputs": [],
   "source": [
    "data = data.reset_index(drop=True)"
   ]
  },
  {
   "cell_type": "code",
   "execution_count": 49,
   "metadata": {},
   "outputs": [],
   "source": [
    "data_test = data[data.user_id == 39136]"
   ]
  },
  {
   "cell_type": "code",
   "execution_count": 50,
   "metadata": {},
   "outputs": [
    {
     "name": "stderr",
     "output_type": "stream",
     "text": [
      "100%|███████████████████████████████████████████████████████████████████████████████| 244/244 [00:00<00:00, 1965.07it/s]\n",
      "/tmp/ipykernel_8945/2037145316.py:1: SettingWithCopyWarning: \n",
      "A value is trying to be set on a copy of a slice from a DataFrame.\n",
      "Try using .loc[row_indexer,col_indexer] = value instead\n",
      "\n",
      "See the caveats in the documentation: https://pandas.pydata.org/pandas-docs/stable/user_guide/indexing.html#returning-a-view-versus-a-copy\n",
      "  data_test['tree'] = data_test['code'].progress_apply(convert_to_tree)\n"
     ]
    }
   ],
   "source": [
    "data_test['tree'] = data_test['code'].progress_apply(convert_to_tree)"
   ]
  },
  {
   "cell_type": "code",
   "execution_count": 13,
   "metadata": {},
   "outputs": [],
   "source": [
    "model = load_model('ast2vec/ast2vec.pt')"
   ]
  },
  {
   "cell_type": "code",
   "execution_count": 52,
   "metadata": {},
   "outputs": [
    {
     "name": "stderr",
     "output_type": "stream",
     "text": [
      "Worker: 0: 31it [00:01, 28.54it/s]                                                                                      \n",
      "Worker: 1: 31it [00:01, 27.64it/s]                                                                                      \n",
      "Worker: 2: 31it [00:01, 28.25it/s]                                                                                      \n",
      "Worker: 3: 31it [00:01, 25.60it/s]                                                                                      \n",
      "Worker: 4: 100%|████████████████████████████████████████████████████████████████████████| 30/30 [00:01<00:00, 25.77it/s]\n",
      "Worker: 5: 30it [00:01, 24.62it/s]                                                                                      \n",
      "Worker: 6: 30it [00:01, 25.58it/s]                                                                                      \n",
      "Worker: 7: 30it [00:01, 26.29it/s]                                                                                      \n"
     ]
    }
   ],
   "source": [
    "test_array = encode_trees(model, data_test['tree'].values, verbose=True, n_jobs=8) "
   ]
  },
  {
   "cell_type": "code",
   "execution_count": 53,
   "metadata": {},
   "outputs": [],
   "source": [
    "test_array = torch.from_numpy(test_array)"
   ]
  },
  {
   "cell_type": "code",
   "execution_count": 54,
   "metadata": {},
   "outputs": [],
   "source": [
    "x_emb = torch.load('data/submits_emb.pt')"
   ]
  },
  {
   "cell_type": "code",
   "execution_count": 56,
   "metadata": {},
   "outputs": [
    {
     "data": {
      "text/plain": [
       "True"
      ]
     },
     "execution_count": 56,
     "metadata": {},
     "output_type": "execute_result"
    }
   ],
   "source": [
    "torch.allclose(x_emb[data_test.submit_index.values], test_array)"
   ]
  },
  {
   "cell_type": "code",
   "execution_count": 7,
   "metadata": {},
   "outputs": [],
   "source": [
    "from data_loading import CustomDataset,CollateClass, make_dataloader\n",
    "import wandb\n",
    "import yaml"
   ]
  },
  {
   "cell_type": "code",
   "execution_count": 8,
   "metadata": {},
   "outputs": [],
   "source": [
    "problems = pd.read_pickle('data/python_statements.pkl')\n",
    "submits_embeddings = torch.load('data/submits_emb.pt')\n",
    "data = pd.read_pickle('data/python_submits.pkl')"
   ]
  },
  {
   "cell_type": "code",
   "execution_count": 9,
   "metadata": {},
   "outputs": [],
   "source": [
    "config = yaml.safe_load(open(\"config.yaml\", \"r\"))\n",
    "wandb.init(\n",
    "    project=\"knowledge_tracing\",\n",
    "    config=config,\n",
    "    mode='disabled'\n",
    ")\n",
    "\n",
    "collate_fn = CollateClass(device='cpu', max_len=20)\n",
    "dataloader = make_dataloader([52422], data.set_index('user_id'), submits_embeddings, problems, shuffle=False, collate_fn=collate_fn)"
   ]
  },
  {
   "cell_type": "code",
   "execution_count": 17,
   "metadata": {},
   "outputs": [],
   "source": [
    "code,prompt, score = next(iter(dataloader))"
   ]
  },
  {
   "cell_type": "code",
   "execution_count": 10,
   "metadata": {},
   "outputs": [],
   "source": [
    "test_data = data[data.user_id == 52422].sort_values(by='timestamp')"
   ]
  },
  {
   "cell_type": "code",
   "execution_count": 11,
   "metadata": {},
   "outputs": [
    {
     "name": "stderr",
     "output_type": "stream",
     "text": [
      "100%|███████████████████████████████████████████████████████████████████████████████| 274/274 [00:00<00:00, 2271.18it/s]\n"
     ]
    }
   ],
   "source": [
    "test_data['tree'] = test_data['code'].progress_apply(convert_to_tree)"
   ]
  },
  {
   "cell_type": "code",
   "execution_count": 14,
   "metadata": {},
   "outputs": [
    {
     "name": "stderr",
     "output_type": "stream",
     "text": [
      "Worker: 1: 35it [00:01, 32.90it/s]                                                                                      \n",
      "Worker: 0: 35it [00:01, 27.75it/s]                                                                                      \n",
      "Worker: 2: 100%|████████████████████████████████████████████████████████████████████████| 34/34 [00:01<00:00, 27.54it/s]\n",
      "Worker: 7: 34it [00:01, 29.40it/s]                                                                                      \n",
      "Worker: 6: 34it [00:01, 26.67it/s]                                                                                      \n",
      "Worker: 5: 34it [00:01, 25.49it/s]                                                                                      \n",
      "Worker: 3: 34it [00:01, 23.45it/s]                                                                                      \n",
      "Worker: 4: 34it [00:01, 18.67it/s]                                                                                      \n"
     ]
    }
   ],
   "source": [
    "test_array = encode_trees(model, test_data['tree'].values, verbose=True, n_jobs=8) "
   ]
  },
  {
   "cell_type": "code",
   "execution_count": 23,
   "metadata": {},
   "outputs": [
    {
     "data": {
      "text/plain": [
       "True"
      ]
     },
     "execution_count": 23,
     "metadata": {},
     "output_type": "execute_result"
    }
   ],
   "source": [
    "import numpy as np\n",
    "\n",
    "np.allclose(test_array[:20],code)"
   ]
  }
 ],
 "metadata": {
  "kernelspec": {
   "display_name": "Python 3 (ipykernel)",
   "language": "python",
   "name": "python3"
  },
  "language_info": {
   "codemirror_mode": {
    "name": "ipython",
    "version": 3
   },
   "file_extension": ".py",
   "mimetype": "text/x-python",
   "name": "python",
   "nbconvert_exporter": "python",
   "pygments_lexer": "ipython3",
   "version": "3.10.6"
  }
 },
 "nbformat": 4,
 "nbformat_minor": 4
}
