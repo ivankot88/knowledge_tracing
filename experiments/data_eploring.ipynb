{
 "cells": [
  {
   "cell_type": "code",
   "execution_count": 1,
   "id": "2641f044-c55e-479a-ae77-c08ee7e34c32",
   "metadata": {},
   "outputs": [
    {
     "name": "stderr",
     "output_type": "stream",
     "text": [
      "2023-05-14 22:57:29.694170: I tensorflow/core/util/util.cc:169] oneDNN custom operations are on. You may see slightly different numerical results due to floating-point round-off errors from different computation orders. To turn them off, set the environment variable `TF_ENABLE_ONEDNN_OPTS=0`.\n"
     ]
    }
   ],
   "source": [
    "import sys\n",
    "sys.path.append('..')\n",
    "\n",
    "import argparse\n",
    "import numpy as np\n",
    "import pandas as pd\n",
    "from tqdm import tqdm\n",
    "import torch\n",
    "from collections import defaultdict\n",
    "from glob import glob\n",
    "from sklearn.model_selection import train_test_split\n",
    "from transformers import get_cosine_schedule_with_warmup\n",
    "from torch.utils.data import Dataset, DataLoader\n",
    "import torch.optim as optim\n",
    "import os\n",
    "from os.path import join\n",
    "import wandb\n",
    "import torch.nn as nn\n",
    "import yaml\n",
    "\n",
    "from torch.multiprocessing import Pool, Process, set_start_method\n",
    "\n",
    "from base_model import KnowledgeModel\n",
    "from data_loading import prepare_data, CollateClass, make_dataloader"
   ]
  },
  {
   "attachments": {},
   "cell_type": "markdown",
   "id": "2389e15b",
   "metadata": {},
   "source": [
    "## Data Processing"
   ]
  },
  {
   "cell_type": "code",
   "execution_count": 2,
   "id": "316685f0",
   "metadata": {},
   "outputs": [],
   "source": [
    "data = pd.read_pickle('../data/python_submits.pkl')"
   ]
  },
  {
   "cell_type": "code",
   "execution_count": 3,
   "id": "3f7acc41",
   "metadata": {},
   "outputs": [
    {
     "data": {
      "text/html": [
       "<div>\n",
       "<style scoped>\n",
       "    .dataframe tbody tr th:only-of-type {\n",
       "        vertical-align: middle;\n",
       "    }\n",
       "\n",
       "    .dataframe tbody tr th {\n",
       "        vertical-align: top;\n",
       "    }\n",
       "\n",
       "    .dataframe thead th {\n",
       "        text-align: right;\n",
       "    }\n",
       "</style>\n",
       "<table border=\"1\" class=\"dataframe\">\n",
       "  <thead>\n",
       "    <tr style=\"text-align: right;\">\n",
       "      <th></th>\n",
       "      <th>submit_index</th>\n",
       "      <th>problem_id</th>\n",
       "      <th>user_id</th>\n",
       "      <th>contest_id</th>\n",
       "      <th>classes_id</th>\n",
       "      <th>verdict</th>\n",
       "      <th>score</th>\n",
       "      <th>timestamp</th>\n",
       "      <th>year</th>\n",
       "      <th>month</th>\n",
       "      <th>name</th>\n",
       "      <th>name.1</th>\n",
       "      <th>academic_year</th>\n",
       "      <th>code</th>\n",
       "    </tr>\n",
       "  </thead>\n",
       "  <tbody>\n",
       "    <tr>\n",
       "      <th>0</th>\n",
       "      <td>0</td>\n",
       "      <td>8924</td>\n",
       "      <td>55622</td>\n",
       "      <td>296235</td>\n",
       "      <td>295176</td>\n",
       "      <td>OK</td>\n",
       "      <td>1</td>\n",
       "      <td>2019-09-19 13:29:55</td>\n",
       "      <td>2019</td>\n",
       "      <td>9</td>\n",
       "      <td>M102-19/20</td>\n",
       "      <td>Python_base_1,2-M102-19/20</td>\n",
       "      <td>19/20</td>\n",
       "      <td>a = int(input())\\nb = a + 1\\nprint(b)\\n</td>\n",
       "    </tr>\n",
       "    <tr>\n",
       "      <th>1</th>\n",
       "      <td>1</td>\n",
       "      <td>8924</td>\n",
       "      <td>59912</td>\n",
       "      <td>296235</td>\n",
       "      <td>295176</td>\n",
       "      <td>OK</td>\n",
       "      <td>1</td>\n",
       "      <td>2019-09-19 13:30:38</td>\n",
       "      <td>2019</td>\n",
       "      <td>9</td>\n",
       "      <td>M102-19/20</td>\n",
       "      <td>Python_base_1,2-M102-19/20</td>\n",
       "      <td>19/20</td>\n",
       "      <td>a = int(input())\\nb = a + 1\\nprint(b)</td>\n",
       "    </tr>\n",
       "    <tr>\n",
       "      <th>2</th>\n",
       "      <td>2</td>\n",
       "      <td>8924</td>\n",
       "      <td>49592</td>\n",
       "      <td>296235</td>\n",
       "      <td>295176</td>\n",
       "      <td>OK</td>\n",
       "      <td>1</td>\n",
       "      <td>2019-09-19 13:33:11</td>\n",
       "      <td>2019</td>\n",
       "      <td>9</td>\n",
       "      <td>M102-19/20</td>\n",
       "      <td>Python_base_1,2-M102-19/20</td>\n",
       "      <td>19/20</td>\n",
       "      <td>a = int(input())\\nb = a + 1\\nprint(b)</td>\n",
       "    </tr>\n",
       "    <tr>\n",
       "      <th>3</th>\n",
       "      <td>3</td>\n",
       "      <td>8924</td>\n",
       "      <td>49151</td>\n",
       "      <td>296235</td>\n",
       "      <td>295176</td>\n",
       "      <td>OK</td>\n",
       "      <td>1</td>\n",
       "      <td>2019-09-19 13:33:54</td>\n",
       "      <td>2019</td>\n",
       "      <td>9</td>\n",
       "      <td>M102-19/20</td>\n",
       "      <td>Python_base_1,2-M102-19/20</td>\n",
       "      <td>19/20</td>\n",
       "      <td>a = int(input())\\nb = a + 1\\nprint(b)\\n</td>\n",
       "    </tr>\n",
       "    <tr>\n",
       "      <th>4</th>\n",
       "      <td>4</td>\n",
       "      <td>8924</td>\n",
       "      <td>52422</td>\n",
       "      <td>296235</td>\n",
       "      <td>295176</td>\n",
       "      <td>OK</td>\n",
       "      <td>1</td>\n",
       "      <td>2019-09-19 13:34:04</td>\n",
       "      <td>2019</td>\n",
       "      <td>9</td>\n",
       "      <td>M102-19/20</td>\n",
       "      <td>Python_base_1,2-M102-19/20</td>\n",
       "      <td>19/20</td>\n",
       "      <td>a = int(input())\\nb = a + 1\\nprint(b)</td>\n",
       "    </tr>\n",
       "    <tr>\n",
       "      <th>...</th>\n",
       "      <td>...</td>\n",
       "      <td>...</td>\n",
       "      <td>...</td>\n",
       "      <td>...</td>\n",
       "      <td>...</td>\n",
       "      <td>...</td>\n",
       "      <td>...</td>\n",
       "      <td>...</td>\n",
       "      <td>...</td>\n",
       "      <td>...</td>\n",
       "      <td>...</td>\n",
       "      <td>...</td>\n",
       "      <td>...</td>\n",
       "      <td>...</td>\n",
       "    </tr>\n",
       "    <tr>\n",
       "      <th>700917</th>\n",
       "      <td>700917</td>\n",
       "      <td>446</td>\n",
       "      <td>168882</td>\n",
       "      <td>1002098</td>\n",
       "      <td>570456</td>\n",
       "      <td>PS</td>\n",
       "      <td>0</td>\n",
       "      <td>2022-11-09 13:49:02</td>\n",
       "      <td>2022</td>\n",
       "      <td>11</td>\n",
       "      <td>_M105-22/23</td>\n",
       "      <td>Python_base_1,2-_M105-22/23</td>\n",
       "      <td>22/23</td>\n",
       "      <td>x = int(input())\\ndec = x//10 %10\\nhun = x//10...</td>\n",
       "    </tr>\n",
       "    <tr>\n",
       "      <th>700918</th>\n",
       "      <td>700918</td>\n",
       "      <td>446</td>\n",
       "      <td>168882</td>\n",
       "      <td>1002098</td>\n",
       "      <td>570456</td>\n",
       "      <td>PS</td>\n",
       "      <td>0</td>\n",
       "      <td>2022-11-09 13:49:25</td>\n",
       "      <td>2022</td>\n",
       "      <td>11</td>\n",
       "      <td>_M105-22/23</td>\n",
       "      <td>Python_base_1,2-_M105-22/23</td>\n",
       "      <td>22/23</td>\n",
       "      <td>x = int(input())\\ndec = x//10 %10\\nhun = x//10...</td>\n",
       "    </tr>\n",
       "    <tr>\n",
       "      <th>700919</th>\n",
       "      <td>700919</td>\n",
       "      <td>446</td>\n",
       "      <td>168882</td>\n",
       "      <td>1002098</td>\n",
       "      <td>570456</td>\n",
       "      <td>PS</td>\n",
       "      <td>0</td>\n",
       "      <td>2022-11-09 13:49:57</td>\n",
       "      <td>2022</td>\n",
       "      <td>11</td>\n",
       "      <td>_M105-22/23</td>\n",
       "      <td>Python_base_1,2-_M105-22/23</td>\n",
       "      <td>22/23</td>\n",
       "      <td>x = int(input())\\ndec = x//10 %10\\nhun = x//10...</td>\n",
       "    </tr>\n",
       "    <tr>\n",
       "      <th>700920</th>\n",
       "      <td>700920</td>\n",
       "      <td>202</td>\n",
       "      <td>160196</td>\n",
       "      <td>1002098</td>\n",
       "      <td>570456</td>\n",
       "      <td>PS</td>\n",
       "      <td>0</td>\n",
       "      <td>2022-11-09 14:19:25</td>\n",
       "      <td>2022</td>\n",
       "      <td>11</td>\n",
       "      <td>_M105-22/23</td>\n",
       "      <td>Python_base_1,2-_M105-22/23</td>\n",
       "      <td>22/23</td>\n",
       "      <td>n=int(input())\\na=n%10\\nprint(a)</td>\n",
       "    </tr>\n",
       "    <tr>\n",
       "      <th>700921</th>\n",
       "      <td>700921</td>\n",
       "      <td>448</td>\n",
       "      <td>160196</td>\n",
       "      <td>1002098</td>\n",
       "      <td>570456</td>\n",
       "      <td>PS</td>\n",
       "      <td>0</td>\n",
       "      <td>2022-11-09 14:24:20</td>\n",
       "      <td>2022</td>\n",
       "      <td>11</td>\n",
       "      <td>_M105-22/23</td>\n",
       "      <td>Python_base_1,2-_M105-22/23</td>\n",
       "      <td>22/23</td>\n",
       "      <td>x = int(input())\\na = x % 10\\nb = x // 10 % 10...</td>\n",
       "    </tr>\n",
       "  </tbody>\n",
       "</table>\n",
       "<p>700922 rows × 14 columns</p>\n",
       "</div>"
      ],
      "text/plain": [
       "        submit_index  problem_id  user_id  contest_id  classes_id verdict  \\\n",
       "0                  0        8924    55622      296235      295176      OK   \n",
       "1                  1        8924    59912      296235      295176      OK   \n",
       "2                  2        8924    49592      296235      295176      OK   \n",
       "3                  3        8924    49151      296235      295176      OK   \n",
       "4                  4        8924    52422      296235      295176      OK   \n",
       "...              ...         ...      ...         ...         ...     ...   \n",
       "700917        700917         446   168882     1002098      570456      PS   \n",
       "700918        700918         446   168882     1002098      570456      PS   \n",
       "700919        700919         446   168882     1002098      570456      PS   \n",
       "700920        700920         202   160196     1002098      570456      PS   \n",
       "700921        700921         448   160196     1002098      570456      PS   \n",
       "\n",
       "        score            timestamp  year  month         name  \\\n",
       "0           1  2019-09-19 13:29:55  2019      9   M102-19/20   \n",
       "1           1  2019-09-19 13:30:38  2019      9   M102-19/20   \n",
       "2           1  2019-09-19 13:33:11  2019      9   M102-19/20   \n",
       "3           1  2019-09-19 13:33:54  2019      9   M102-19/20   \n",
       "4           1  2019-09-19 13:34:04  2019      9   M102-19/20   \n",
       "...       ...                  ...   ...    ...          ...   \n",
       "700917      0  2022-11-09 13:49:02  2022     11  _M105-22/23   \n",
       "700918      0  2022-11-09 13:49:25  2022     11  _M105-22/23   \n",
       "700919      0  2022-11-09 13:49:57  2022     11  _M105-22/23   \n",
       "700920      0  2022-11-09 14:19:25  2022     11  _M105-22/23   \n",
       "700921      0  2022-11-09 14:24:20  2022     11  _M105-22/23   \n",
       "\n",
       "                             name.1 academic_year  \\\n",
       "0        Python_base_1,2-M102-19/20         19/20   \n",
       "1        Python_base_1,2-M102-19/20         19/20   \n",
       "2        Python_base_1,2-M102-19/20         19/20   \n",
       "3        Python_base_1,2-M102-19/20         19/20   \n",
       "4        Python_base_1,2-M102-19/20         19/20   \n",
       "...                             ...           ...   \n",
       "700917  Python_base_1,2-_M105-22/23         22/23   \n",
       "700918  Python_base_1,2-_M105-22/23         22/23   \n",
       "700919  Python_base_1,2-_M105-22/23         22/23   \n",
       "700920  Python_base_1,2-_M105-22/23         22/23   \n",
       "700921  Python_base_1,2-_M105-22/23         22/23   \n",
       "\n",
       "                                                     code  \n",
       "0                 a = int(input())\\nb = a + 1\\nprint(b)\\n  \n",
       "1                   a = int(input())\\nb = a + 1\\nprint(b)  \n",
       "2                   a = int(input())\\nb = a + 1\\nprint(b)  \n",
       "3                 a = int(input())\\nb = a + 1\\nprint(b)\\n  \n",
       "4                   a = int(input())\\nb = a + 1\\nprint(b)  \n",
       "...                                                   ...  \n",
       "700917  x = int(input())\\ndec = x//10 %10\\nhun = x//10...  \n",
       "700918  x = int(input())\\ndec = x//10 %10\\nhun = x//10...  \n",
       "700919  x = int(input())\\ndec = x//10 %10\\nhun = x//10...  \n",
       "700920                   n=int(input())\\na=n%10\\nprint(a)  \n",
       "700921  x = int(input())\\na = x % 10\\nb = x // 10 % 10...  \n",
       "\n",
       "[700922 rows x 14 columns]"
      ]
     },
     "execution_count": 3,
     "metadata": {},
     "output_type": "execute_result"
    }
   ],
   "source": [
    "data"
   ]
  },
  {
   "cell_type": "code",
   "execution_count": 3,
   "id": "8e92e0ea",
   "metadata": {},
   "outputs": [
    {
     "data": {
      "text/plain": [
       "(3187,)"
      ]
     },
     "execution_count": 3,
     "metadata": {},
     "output_type": "execute_result"
    }
   ],
   "source": [
    "data.user_id.unique().shape"
   ]
  },
  {
   "cell_type": "code",
   "execution_count": 4,
   "id": "c289d72e",
   "metadata": {},
   "outputs": [],
   "source": [
    "temp = pd.pivot_table(data, index='user_id',values='score',aggfunc='mean')"
   ]
  },
  {
   "cell_type": "code",
   "execution_count": 5,
   "id": "66ec8876",
   "metadata": {},
   "outputs": [],
   "source": [
    "ranges = np.linspace(0,1,10)\n",
    "\n",
    "user_ids = dict()\n",
    "\n",
    "for i in range(len(ranges)-1):\n",
    "    user_ids[i] = temp[temp.score.between(ranges[i],ranges[i+1])].index"
   ]
  },
  {
   "cell_type": "code",
   "execution_count": 6,
   "id": "34a5249a",
   "metadata": {},
   "outputs": [],
   "source": [
    "config = yaml.safe_load(open(\"../config.yaml\", \"r\"))\n",
    "config['batch_size'] = 100"
   ]
  },
  {
   "cell_type": "code",
   "execution_count": 7,
   "id": "70e65316",
   "metadata": {},
   "outputs": [
    {
     "name": "stderr",
     "output_type": "stream",
     "text": [
      "Failed to detect the name of this notebook, you can set it manually with the WANDB_NOTEBOOK_NAME environment variable to enable code saving.\n"
     ]
    }
   ],
   "source": [
    "wandb.init(\n",
    "    mode='disabled',\n",
    "    config=config\n",
    ")\n",
    "\n",
    "problems = pd.read_pickle('../data/python_statements.pkl')\n",
    "submits_embeddings = torch.load('../data/submits_emb.pt')\n",
    "dataset = data.reset_index().set_index('user_id')\n",
    "collate_fn = CollateClass('cpu', max_len=300)"
   ]
  },
  {
   "cell_type": "code",
   "execution_count": 8,
   "id": "553a7c68",
   "metadata": {},
   "outputs": [],
   "source": [
    "def get_embeddings(user_ids):\n",
    "    dataloader = make_dataloader(user_ids, dataset, submits_embeddings, problems, shuffle=True,\n",
    "                                        collate_fn=collate_fn)\n",
    "    code_embs, prompt, scores = next(iter(dataloader))\n",
    "    return code_embs"
   ]
  },
  {
   "cell_type": "code",
   "execution_count": 9,
   "id": "a25d7c66",
   "metadata": {},
   "outputs": [],
   "source": [
    "embeddings = []\n",
    "for i in range(len(ranges)-1):\n",
    "    embeddings.append(get_embeddings(user_ids[i]))"
   ]
  },
  {
   "cell_type": "code",
   "execution_count": 9,
   "id": "49cfeb23",
   "metadata": {},
   "outputs": [],
   "source": [
    "model = KnowledgeModel(1,3,256,8,128)\n",
    "model.load_state_dict(torch.load('../model_state/model_checkpoint.pt'))\n",
    "model.eval();"
   ]
  },
  {
   "cell_type": "code",
   "execution_count": 10,
   "id": "c4f74e28",
   "metadata": {},
   "outputs": [],
   "source": [
    "def generate_square_subsequent_mask(sz):\n",
    "    mask = (torch.triu(torch.ones((sz, sz))) == 1).transpose(0, 1)\n",
    "    mask = mask.float().masked_fill(mask == 0, float('-inf')).masked_fill(mask == 1, float(0.0))\n",
    "    return mask"
   ]
  },
  {
   "cell_type": "code",
   "execution_count": 11,
   "id": "d0f8ada7",
   "metadata": {},
   "outputs": [],
   "source": [
    "from utils import set_random_seed\n",
    "set_random_seed(42)"
   ]
  },
  {
   "cell_type": "code",
   "execution_count": 15,
   "id": "a8349fb9",
   "metadata": {},
   "outputs": [
    {
     "name": "stderr",
     "output_type": "stream",
     "text": [
      "100%|██████████| 9/9 [00:19<00:00,  2.17s/it]\n"
     ]
    }
   ],
   "source": [
    "to_del =[]\n",
    "for i in tqdm(range(len(embeddings))):\n",
    "    with torch.no_grad():\n",
    "        embeddings[i] = model.decode(embeddings[i], \n",
    "                                    embeddings[i], \n",
    "                                    generate_square_subsequent_mask(embeddings[i].shape[0]))[-1]"
   ]
  },
  {
   "cell_type": "code",
   "execution_count": 16,
   "id": "88c823ac",
   "metadata": {},
   "outputs": [],
   "source": [
    "lens = np.cumsum([len(i) for i in embeddings])"
   ]
  },
  {
   "cell_type": "code",
   "execution_count": 17,
   "metadata": {},
   "outputs": [],
   "source": [
    "concat_emb = torch.cat(embeddings, axis=0)"
   ]
  },
  {
   "attachments": {},
   "cell_type": "markdown",
   "id": "d5abdd11",
   "metadata": {},
   "source": [
    "## Data Visualizing"
   ]
  },
  {
   "cell_type": "code",
   "execution_count": 18,
   "id": "3265abd3",
   "metadata": {},
   "outputs": [],
   "source": [
    "from umap import UMAP\n",
    "import seaborn as sns\n",
    "import matplotlib.pyplot as plt"
   ]
  },
  {
   "cell_type": "code",
   "execution_count": 19,
   "id": "0ed91ae8",
   "metadata": {},
   "outputs": [],
   "source": [
    "fit = UMAP()\n",
    "u = fit.fit_transform(concat_emb.detach().numpy())"
   ]
  },
  {
   "cell_type": "code",
   "execution_count": 20,
   "id": "ca816f6b",
   "metadata": {},
   "outputs": [],
   "source": [
    "n_colors = len(lens)\n",
    "colors = np.zeros((n_colors, 3))\n",
    "\n",
    "# create the gradation of colors from red to green\n",
    "for i in range(n_colors):\n",
    "    colors[i, 0] = i / (n_colors - 1) # red component\n",
    "    colors[i, 1] = 1 - i / (n_colors - 1) # green component"
   ]
  },
  {
   "cell_type": "code",
   "execution_count": 28,
   "id": "6751f46b",
   "metadata": {},
   "outputs": [],
   "source": [
    "colors = colors[::-1]"
   ]
  },
  {
   "cell_type": "code",
   "execution_count": 35,
   "id": "08112896",
   "metadata": {},
   "outputs": [
    {
     "name": "stderr",
     "output_type": "stream",
     "text": [
      "100%|██████████| 8/8 [00:00<00:00, 99.56it/s]\n"
     ]
    },
    {
     "data": {
      "image/png": "[encoded data removed]",
      "text/plain": [
       "<Figure size 640x480 with 1 Axes>"
      ]
     },
     "metadata": {},
     "output_type": "display_data"
    }
   ],
   "source": [
    "for i in tqdm(range(len(lens)-1)):\n",
    "    plt.scatter(u[lens[i]:lens[i+1],0], u[lens[i]:lens[i+1],1], color=[colors[i]] * (lens[i+1]-lens[i]), label=f'{ranges[i+1]:.2f}%')\n",
    "plt.legend()\n",
    "plt.title('KT decoder embeddings')\n",
    "plt.savefig('picture.png', facecolor='white')"
   ]
  },
  {
   "cell_type": "code",
   "execution_count": null,
   "id": "0f7854db",
   "metadata": {},
   "outputs": [],
   "source": [
    "dataloader = make_dataloader(user_ids[4], dataset, submits_embeddings, problems, shuffle=False,\n",
    "                                        collate_fn=collate_fn)\n",
    "code_embs, prompt, scores = next(iter(dataloader))"
   ]
  },
  {
   "cell_type": "code",
   "execution_count": 13,
   "id": "2acce39e",
   "metadata": {},
   "outputs": [],
   "source": [
    "import math\n",
    "import torch\n",
    "import torch.nn as nn\n",
    "import torch.nn.functional as F\n",
    "\n",
    "num_heads = 8\n",
    "num_layers = 3\n",
    "d_model = 256\n",
    "d_head = d_model//num_heads\n",
    "\n",
    "\n",
    "def compute_selfattention(transformer_encoder,x,mask,src_key_padding_mask,i_layer,d_model,num_heads):\n",
    "    h = F.linear(x, transformer_encoder.layers[i_layer].self_attn.in_proj_weight, bias=transformer_encoder.layers[i_layer].self_attn.in_proj_bias)\n",
    "    qkv = h.reshape(x.shape[0], x.shape[1], num_heads, 3 * d_model//num_heads)\n",
    "    qkv = qkv.permute(0, 2, 1, 3)  # [Batch, Head, SeqLen, Dims]\n",
    "    q, k, v = qkv.chunk(3, dim=-1) # [Batch, Head, SeqLen, d_head=d_model//num_heads]\n",
    "    attn_logits = torch.matmul(q, k.transpose(-2, -1)) # [Batch, Head, SeqLen, SeqLen]\n",
    "    d_k = q.size()[-1]\n",
    "    attn_probs = attn_logits / math.sqrt(d_k)\n",
    "    # combining src_mask e.g. upper triangular with src_key_padding_mask e.g. columns over each padding position\n",
    "    combined_mask = torch.zeros_like(attn_probs)\n",
    "    if mask is not None:\n",
    "        combined_mask += mask.float() # assume mask of shape (seq_len,seq_len)\n",
    "    if src_key_padding_mask is not None:\n",
    "        combined_mask += src_key_padding_mask.float().unsqueeze(1).unsqueeze(1).repeat(1,num_heads,x.shape[1],1)\n",
    "        # assume shape (batch_size,seq_len), repeating along head and line dimensions == \"column\" mask\n",
    "    combined_mask = torch.where(combined_mask>0,torch.zeros_like(combined_mask)-float(\"inf\"),torch.zeros_like(combined_mask))\n",
    "    # setting masked logits to -inf before softmax\n",
    "    attn_probs += combined_mask\n",
    "    attn_probs = F.softmax(attn_probs, dim=-1)\n",
    "    return attn_logits,attn_probs\n",
    "\n",
    "def extract_selfattention_maps(transformer_encoder,x,mask,src_key_padding_mask):\n",
    "    attn_logits_maps = []\n",
    "    attn_probs_maps = []\n",
    "    num_layers = transformer_encoder.num_layers\n",
    "    d_model = transformer_encoder.layers[0].self_attn.embed_dim\n",
    "    num_heads = transformer_encoder.layers[0].self_attn.num_heads\n",
    "    norm_first = transformer_encoder.layers[0].norm_first\n",
    "    with torch.no_grad():\n",
    "        for i in range(num_layers):\n",
    "            # compute attention of layer i\n",
    "            h = x.clone()\n",
    "            if norm_first:\n",
    "                h = transformer_encoder.layers[i].norm1(h)\n",
    "            # attn = transformer_encoder.layers[i].self_attn(h, h, h,attn_mask=mask,key_padding_mask=src_key_padding_mask,need_weights=True)[1]\n",
    "            # attention_maps.append(attn) # of shape [batch_size,seq_len,seq_len]\n",
    "            attn_logits,attn_probs = compute_selfattention(transformer_encoder,h,mask,src_key_padding_mask,i,d_model,num_heads)\n",
    "            attn_logits_maps.append(attn_logits) # of shape [batch_size,num_heads,seq_len,seq_len]\n",
    "            attn_probs_maps.append(attn_probs)\n",
    "            # forward of layer i\n",
    "            x = transformer_encoder.layers[i](x, x)\n",
    "    return attn_logits_maps,attn_probs_maps"
   ]
  },
  {
   "cell_type": "code",
   "execution_count": 14,
   "id": "d5740134",
   "metadata": {},
   "outputs": [],
   "source": [
    "attn_logits_maps,attn_probs_maps  = extract_selfattention_maps(model.transformer.decoder, \n",
    "                           code_embs.permute(1,0,2), \n",
    "                           generate_square_subsequent_mask(code_embs.shape[0]),\n",
    "                           None)"
   ]
  },
  {
   "cell_type": "code",
   "execution_count": 21,
   "id": "82240c3a",
   "metadata": {},
   "outputs": [
    {
     "data": {
      "image/png": "[encoded data removed]",
      "text/plain": [
       "<Figure size 640x480 with 2 Axes>"
      ]
     },
     "metadata": {},
     "output_type": "display_data"
    }
   ],
   "source": [
    "import seaborn as sns\n",
    "import matplotlib.pyplot as plt\n",
    "sns.heatmap((attn_probs_maps[0][0][0]+generate_square_subsequent_mask(code_embs.shape[0]))[:150,:150].detach().numpy(), vmin=0)\n",
    "plt.savefig('../figures/attention_layer_2.png', facecolor='white')"
   ]
  },
  {
   "cell_type": "code",
   "execution_count": 16,
   "id": "a9b8228b",
   "metadata": {},
   "outputs": [
    {
     "name": "stderr",
     "output_type": "stream",
     "text": [
      "/tmp/ipykernel_15397/3322778042.py:1: DtypeWarning: Columns (9,16) have mixed types. Specify dtype option on import or set low_memory=False.\n",
      "  problems = pd.read_csv('../../data/problems.csv').set_index('id')\n"
     ]
    }
   ],
   "source": [
    "problems = pd.read_csv('../../data/problems.csv').set_index('id')"
   ]
  },
  {
   "cell_type": "code",
   "execution_count": 23,
   "id": "c10500cc",
   "metadata": {},
   "outputs": [
    {
     "name": "stdout",
     "output_type": "stream",
     "text": [
      "Требуется написать программу, которая определяет цифры исходного четырёхзначного числа $x$ и выводит их на экран.\n",
      "Входной поток содержит целое число $x$ ${(1000 \\leqslant x \\leqslant 9999)}$.\n",
      "Выведите цифры числа $x$ по одной в строке, в следующем порядке: тысячи, сотни, десятки и затем единицы.\n"
     ]
    }
   ],
   "source": [
    "print(problems.loc[441].statement)\n",
    "print(problems.loc[441].statement_input)\n",
    "print(problems.loc[441].statement_output)"
   ]
  },
  {
   "cell_type": "code",
   "execution_count": 29,
   "id": "888116bd",
   "metadata": {},
   "outputs": [
    {
     "name": "stdout",
     "output_type": "stream",
     "text": [
      "<p>Фёдор любит откладывать дела на потом. Но каждый день мама просит его писать отчёт о том, как продвигается&nbsp;важное дело, которое она ему поручила сделать на неделе.</p>\n",
      "\n",
      "<p>Первые N дней Фёдор откладывал дело на завтра. Потом он его выполнил. В оставшиеся дни он писал в ежедневном отчёте фразу &quot;Давно готово&quot;.</p>\n",
      "\n",
      "<p>Выведите записи из отчёта Фёдора за неделю.</p>\n",
      "<p>Целое число <strong>N</strong>: от 1 до 6.</p>\n",
      "<p>Выведите на экран:</p>\n",
      "\n",
      "<p>N строк с фразой &quot;Сделаю завтра&quot;.</p>\n",
      "\n",
      "<p>Затем одна строка &quot;Выполнил важное дело&quot;.</p>\n",
      "\n",
      "<p>В оставшиеся дни недели фраза &quot;Давно готово&quot;.</p>\n"
     ]
    }
   ],
   "source": [
    "print(problems.loc[11154].statement)\n",
    "print(problems.loc[11154].statement_input)\n",
    "print(problems.loc[11154].statement_output)"
   ]
  },
  {
   "attachments": {},
   "cell_type": "markdown",
   "id": "cefb03eb",
   "metadata": {},
   "source": [
    "В данном примере мы видим 2 задачи - решение первой задачи с первого раза оказало сильное влияние на следующий рост ученика, решение же второй задачи оказало слабое влияние. "
   ]
  }
 ],
 "metadata": {
  "accelerator": "GPU",
  "colab": {
   "provenance": []
  },
  "gpuClass": "standard",
  "kernelspec": {
   "display_name": "Python 3 (ipykernel)",
   "language": "python",
   "name": "python3"
  },
  "language_info": {
   "codemirror_mode": {
    "name": "ipython",
    "version": 3
   },
   "file_extension": ".py",
   "mimetype": "text/x-python",
   "name": "python",
   "nbconvert_exporter": "python",
   "pygments_lexer": "ipython3",
   "version": "3.10.6"
  }
 },
 "nbformat": 4,
 "nbformat_minor": 5
}
