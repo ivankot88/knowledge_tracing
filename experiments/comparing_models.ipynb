{
 "cells": [
  {
   "cell_type": "code",
   "execution_count": 1,
   "id": "f547a7f9-b7ba-4275-9d3f-2aca3605ed95",
   "metadata": {},
   "outputs": [
    {
     "name": "stderr",
     "output_type": "stream",
     "text": [
      "2023-04-29 18:53:38.066965: I tensorflow/core/util/util.cc:169] oneDNN custom operations are on. You may see slightly different numerical results due to floating-point round-off errors from different computation orders. To turn them off, set the environment variable `TF_ENABLE_ONEDNN_OPTS=0`.\n"
     ]
    }
   ],
   "source": [
    "import pandas as pd\n",
    "import matplotlib.pyplot as plt\n",
    "import seaborn as sns\n",
    "import torch\n",
    "from transformers import AutoTokenizer, AutoModel\n",
    "import os\n",
    "import numpy as np\n",
    "import torch.nn as nn\n",
    "import ast\n",
    "import sys\n",
    "sys.path.append('..')\n",
    "os.chdir('..')\n",
    "\n",
    "from ast2vec import tree as tree\n",
    "from ast2vec.ast2vec import encode_trees, load_model\n",
    "from ast2vec import tree_grammar as tree_grammar\n",
    "from ast2vec import python_ast_utils\n",
    "from ast2vec.python_ast_utils import *"
   ]
  },
  {
   "cell_type": "code",
   "execution_count": 52,
   "id": "6c148d90-b42f-4d03-8d5b-f8825889b76d",
   "metadata": {},
   "outputs": [
    {
     "name": "stdout",
     "output_type": "stream",
     "text": [
      "huggingface/tokenizers: The current process just got forked, after parallelism has already been used. Disabling parallelism to avoid deadlocks...\n",
      "To disable this warning, you can either:\n",
      "\t- Avoid using `tokenizers` before the fork if possible\n",
      "\t- Explicitly set the environment variable TOKENIZERS_PARALLELISM=(true | false)\n",
      "--2023-04-29 19:14:23--  https://raw.githubusercontent.com/microsoft/CodeBERT/master/UniXcoder/unixcoder.py\n",
      "Resolving raw.githubusercontent.com (raw.githubusercontent.com)... 185.199.109.133, 185.199.111.133, 185.199.108.133, ...\n",
      "Connecting to raw.githubusercontent.com (raw.githubusercontent.com)|185.199.109.133|:443... connected.\n",
      "HTTP request sent, awaiting response... 200 OK\n",
      "Length: 10352 (10K) [text/plain]\n",
      "Saving to: ‘unixcoder.py’\n",
      "\n",
      "unixcoder.py        100%[===================>]  10.11K  --.-KB/s    in 0.006s  \n",
      "\n",
      "2023-04-29 19:14:23 (1.63 MB/s) - ‘unixcoder.py’ saved [10352/10352]\n",
      "\n"
     ]
    }
   ],
   "source": [
    "!wget https://raw.githubusercontent.com/microsoft/CodeBERT/master/UniXcoder/unixcoder.py"
   ]
  },
  {
   "cell_type": "code",
   "execution_count": 66,
   "id": "45a012d3-7a90-4112-a002-8f1646233fe9",
   "metadata": {},
   "outputs": [],
   "source": [
    "from utils import set_random_seed\n",
    "from unixcoder import UniXcoder\n",
    "from sklearn.metrics.pairwise import cosine_similarity\n",
    "\n",
    "set_random_seed(404)"
   ]
  },
  {
   "cell_type": "markdown",
   "id": "1823a167-e565-4bbe-81e2-60f9276028ed",
   "metadata": {},
   "source": [
    "## Prepare Models"
   ]
  },
  {
   "cell_type": "code",
   "execution_count": 98,
   "id": "5e36dce7-17bc-43b2-9392-03eea8f9c6f7",
   "metadata": {},
   "outputs": [],
   "source": [
    "def compute_embeddings(model, codes):\n",
    "    embeddings = []\n",
    "    for code in codes:\n",
    "        embeddings.append(model.get_embedding(code))\n",
    "    return embeddings\n",
    "\n",
    "class CodeBert:\n",
    "    def __init__(self, name):\n",
    "        self.tokenizer = AutoTokenizer.from_pretrained(name)\n",
    "        self.model = AutoModel.from_pretrained(name)\n",
    "\n",
    "    def get_embedding(self, code):\n",
    "        code_tokens=self.tokenizer.tokenize(code, max_length=1024)\n",
    "        tokens=[self.tokenizer.cls_token, self.tokenizer.sep_token] + code_tokens + [self.tokenizer.eos_token]\n",
    "        tokens_ids = self.tokenizer.convert_tokens_to_ids(tokens)\n",
    "        context_embeddings=self.model(torch.tensor(tokens_ids)[None,:])[0]\n",
    "        return context_embeddings[:,0,:].squeeze().detach().numpy()\n",
    "    \n",
    "class UnixCoder:\n",
    "    def __init__(self):\n",
    "        self.model = UniXcoder(\"microsoft/unixcoder-base\")\n",
    "        \n",
    "    def get_embedding(self, code):\n",
    "        tokens_ids = self.model.tokenize(codes, max_length=512, mode=\"<encoder-decoder>\")\n",
    "        tokens_embeddings, max_func_embedding = self.model(torch.tensor(tokens_ids))\n",
    "        return max_func_embedding.squeeze().detach().numpy()\n",
    "    \n",
    "    \n",
    "class Ast2Vec:\n",
    "    def __init__(self):\n",
    "        self.model = load_model('ast2vec/ast2vec.pt')\n",
    "    \n",
    "    def convert_to_tree(self, src):\n",
    "        parser = tree_grammar.TreeParser(grammar)\n",
    "        try:\n",
    "            ast_tree = ast.parse(src, mode='exec')\n",
    "            x = ast_to_tree(ast_tree)\n",
    "            parser.parse_tree(x)\n",
    "            return x\n",
    "        except:\n",
    "            return None\n",
    "    \n",
    "    def get_embedding(self, code):\n",
    "        tree = self.convert_to_tree(code)\n",
    "        X = encode_trees(self.model, [tree])\n",
    "        return X.squeeze()"
   ]
  },
  {
   "cell_type": "code",
   "execution_count": 99,
   "id": "481d235c-f0f7-4c66-99a1-853c5ff74753",
   "metadata": {},
   "outputs": [],
   "source": [
    "true_pairs = [\n",
    "(\"\"\" \n",
    "a = int(input())\n",
    "b = int(input())\n",
    "\"\"\",\n",
    "\"\"\"\n",
    "c = int(input())\n",
    "d = int(input())\n",
    "\"\"\"), # names changing\n",
    "(\"\"\"\n",
    "a = int(input())\n",
    "for i in range(a):\n",
    "    print(i)\n",
    "\"\"\",\n",
    "\"\"\"\n",
    "a = int(input())\n",
    "b = 1\n",
    "for i in range(a):\n",
    "    print(i)\n",
    "\"\"\"), # noise variables\n",
    "(\"\"\"\n",
    "if a > b:\n",
    "    print(a)\n",
    "\"\"\",\n",
    "\"\"\"\n",
    "if b < a:\n",
    "    print(a)\n",
    "\"\"\"), # if swapping\n",
    "(\"\"\"\n",
    "if a > b:\n",
    "    print(a)\n",
    "\"\"\",\n",
    "\"\"\"\n",
    "if a > b and True:\n",
    "    print(a)\n",
    "\"\"\"), # if noising\n",
    "(\"\"\"\n",
    "for i in range(10):\n",
    "    print(i)\n",
    "\"\"\",\n",
    "\"\"\"\n",
    "i = 0\n",
    "while i < 10:\n",
    "    print(i)\n",
    "\"\"\"), # loop contruction changing\n",
    "]"
   ]
  },
  {
   "cell_type": "code",
   "execution_count": 100,
   "id": "7550677d-81ea-4d5a-a424-39068ed11516",
   "metadata": {},
   "outputs": [],
   "source": [
    "false_pairs = [\n",
    "(\"\"\" \n",
    "a = int(input())\n",
    "\"\"\",\n",
    "\"\"\"\n",
    "c = int(input())\n",
    "d = int(input())\n",
    "\"\"\"), # duplicate constructions\n",
    "(\"\"\"\n",
    "a = int(input())\n",
    "for i in range(a):\n",
    "    print(i)\n",
    "\"\"\",\n",
    "\"\"\"\n",
    "a = int(input())\n",
    "for i in range(a-1):\n",
    "    print(i)\n",
    "\"\"\"), # incorrect loop condition\n",
    "(\"\"\"\n",
    "if a > b:\n",
    "    print(a)\n",
    "\"\"\",\n",
    "\"\"\"\n",
    "if b > a:\n",
    "    print(a)\n",
    "\"\"\"), # incorrect if condition\n",
    "(\"\"\"\n",
    "a = int(input())\n",
    "for i in range(a):\n",
    "    print(i)\n",
    "\"\"\",\n",
    "\"\"\"\n",
    "for i in range(a):\n",
    "    print(i)\n",
    "\"\"\"), # forgotting input\n",
    "(\"\"\"\n",
    "if a > 10:\n",
    "    print(a)\n",
    "    print(10)\n",
    "\"\"\",\n",
    "\"\"\"\n",
    "if a > 10:\n",
    "    print(a)\n",
    "print(10)\n",
    "\"\"\"), # indent changing\n",
    "]"
   ]
  },
  {
   "cell_type": "code",
   "execution_count": 105,
   "id": "39bdb052-4946-4803-8722-6a9065655354",
   "metadata": {},
   "outputs": [
    {
     "name": "stderr",
     "output_type": "stream",
     "text": [
      "Some weights of the model checkpoint at microsoft/graphcodebert-base were not used when initializing RobertaModel: ['lm_head.dense.weight', 'lm_head.decoder.bias', 'lm_head.decoder.weight', 'lm_head.layer_norm.weight', 'lm_head.dense.bias', 'lm_head.bias', 'lm_head.layer_norm.bias']\n",
      "- This IS expected if you are initializing RobertaModel from the checkpoint of a model trained on another task or with another architecture (e.g. initializing a BertForSequenceClassification model from a BertForPreTraining model).\n",
      "- This IS NOT expected if you are initializing RobertaModel from the checkpoint of a model that you expect to be exactly identical (initializing a BertForSequenceClassification model from a BertForSequenceClassification model).\n",
      "Some weights of RobertaModel were not initialized from the model checkpoint at microsoft/graphcodebert-base and are newly initialized: ['roberta.pooler.dense.weight', 'roberta.pooler.dense.bias']\n",
      "You should probably TRAIN this model on a down-stream task to be able to use it for predictions and inference.\n"
     ]
    }
   ],
   "source": [
    "models = {\n",
    "    'CodeBert' : CodeBert('microsoft/codebert-base'),\n",
    "    'GraphCodeBert' : CodeBert('microsoft/graphcodebert-base'),\n",
    "    'UnixCoder' : UnixCoder(),\n",
    "    'Ast2Vec' : Ast2Vec(),\n",
    "}"
   ]
  },
  {
   "cell_type": "code",
   "execution_count": 187,
   "id": "8d0e9b2f-8f6e-4caf-be5f-5d1bed0d8a4e",
   "metadata": {},
   "outputs": [],
   "source": [
    "from scipy.stats import pearsonr"
   ]
  },
  {
   "cell_type": "code",
   "execution_count": 206,
   "id": "f3aee814-25be-47da-bdc2-2a68a1a5968e",
   "metadata": {},
   "outputs": [
    {
     "name": "stderr",
     "output_type": "stream",
     "text": [
      "100%|█████████████████████████████████████████████████████████████████████████████████████| 4/4 [00:06<00:00,  1.63s/it]\n"
     ]
    }
   ],
   "source": [
    "d = {\n",
    "    'model_name' : [m for m in models.keys()],\n",
    "    'true_pairs' : [],\n",
    "    'false_pairs' : [],\n",
    "    'num_of_params' : []\n",
    "}\n",
    "def compute_embeddings(pairs, model):\n",
    "    cos_sims = []\n",
    "    for (x, y) in pairs:\n",
    "        x_emb = model.get_embedding(x)\n",
    "        y_emb = model.get_embedding(y)\n",
    "        # cos_sims.append(pearsonr(x_emb, y_emb).statistic)\n",
    "        cos_sims.append(cosine_similarity(x_emb[None,:], y_emb[None,:])[0][0])\n",
    "    return np.mean(cos_sims)\n",
    "\n",
    "for (model_name, model) in tqdm(models.items()):\n",
    "    d['true_pairs'].append(compute_embeddings(true_pairs, model))\n",
    "    d['false_pairs'].append(compute_embeddings(false_pairs, model))\n",
    "    d['num_of_params'].append(sum(p.numel() for p in model.model.parameters() if p.requires_grad))"
   ]
  },
  {
   "cell_type": "code",
   "execution_count": 207,
   "id": "11af54b7-da60-4a20-b9b0-6c56721536a2",
   "metadata": {},
   "outputs": [],
   "source": [
    "result = pd.DataFrame(d)\n",
    "result['false_pairs'] = 1 - result['false_pairs'].astype(np.float16)\n",
    "result['true_pairs'] = result['true_pairs'].astype(np.float16)"
   ]
  },
  {
   "cell_type": "code",
   "execution_count": 202,
   "id": "ca8af036-0a5f-4248-8bdd-2b39103ea51d",
   "metadata": {},
   "outputs": [],
   "source": [
    "result['score'] = (result['true_pairs'] + result['false_pairs'])/2"
   ]
  },
  {
   "cell_type": "code",
   "execution_count": 205,
   "id": "c22f0628-d0cc-428d-bb9f-60ba63786b72",
   "metadata": {},
   "outputs": [
    {
     "data": {
      "image/png": "[encoded data removed]",
      "text/plain": [
       "<Figure size 500x400 with 1 Axes>"
      ]
     },
     "metadata": {},
     "output_type": "display_data"
    }
   ],
   "source": [
    "import seaborn as sns\n",
    "import matplotlib.pyplot as plt\n",
    "\n",
    "plt.figure(figsize=(5,4))\n",
    "\n",
    "ax = sns.scatterplot(x=\"num_of_params\", y=\"true_pairs\", data=result, label='positive_score')\n",
    "ax = sns.scatterplot(x=\"num_of_params\", y=\"false_pairs\", data=result,label='negative_score')\n",
    "aligment = ['left','right','right','left']\n",
    "\n",
    "for ax_idx, column in enumerate(['true_pairs','false_pairs']):\n",
    "    for i, row in result.iterrows():\n",
    "        ax.annotate(row[\"model_name\"], xy=(row[\"num_of_params\"], row[column]), xytext=(-5,5),\n",
    "                    textcoords=\"offset points\", fontsize=10, horizontalalignment=aligment[i])\n",
    "\n",
    "plt.ylabel('score')\n",
    "plt.legend()\n",
    "plt.savefig('embedding_scores_pearson.png', facecolor='white')"
   ]
  },
  {
   "cell_type": "code",
   "execution_count": null,
   "id": "08f839cc-d852-4a16-b618-eabc47b1686c",
   "metadata": {},
   "outputs": [],
   "source": []
  },
  {
   "cell_type": "code",
   "execution_count": null,
   "id": "f185b3cf-0d09-44f3-908c-f5dd555c7e49",
   "metadata": {},
   "outputs": [],
   "source": []
  }
 ],
 "metadata": {
  "kernelspec": {
   "display_name": "Python 3 (ipykernel)",
   "language": "python",
   "name": "python3"
  },
  "language_info": {
   "codemirror_mode": {
    "name": "ipython",
    "version": 3
   },
   "file_extension": ".py",
   "mimetype": "text/x-python",
   "name": "python",
   "nbconvert_exporter": "python",
   "pygments_lexer": "ipython3",
   "version": "3.10.6"
  }
 },
 "nbformat": 4,
 "nbformat_minor": 5
}
